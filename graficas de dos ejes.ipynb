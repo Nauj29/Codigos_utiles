{
 "cells": [
  {
   "cell_type": "code",
   "execution_count": 3,
   "id": "1e5e8010",
   "metadata": {},
   "outputs": [],
   "source": [
    "import pandas as pd\n",
    "import matplotlib.pyplot as plt\n",
    "from matplotlib.dates import DateFormatter\n",
    "import matplotlib.dates as mdates\n",
    "\n",
    "example = [['01.10.1965 00:00', 13.88099957,    5.375],\n",
    "    ['02.10.1965 00:00',    5.802999973,    3.154999971],\n",
    "    ['03.10.1965 00:00',    9.605699539,    0.564999998],\n",
    "    ['14.10.1965 00:00',    0.410299987,    1.11500001],\n",
    "    ['31.10.1965 00:00',    6.184500217,    -0.935000002],\n",
    "    ['01.11.1965 00:00',    0.347299993,    -5.235000134],\n",
    "    ['02.11.1965 00:00',    0.158299997,    -8.244999886],\n",
    "    ['03.11.1965 00:00',    1.626199961,    -3.980000019],\n",
    "    ['24.10.1966 00:00',    0,              3.88499999],\n",
    "    ['25.10.1966 00:00',    0.055100001,    1.279999971],\n",
    "    ['30.10.1966 00:00',    0.25940001,     -5.554999828]]\n",
    "\n",
    "names = [\"date\",\"Pobs\",\"Tobs\"]\n",
    "data = pd.DataFrame(example, columns=names)\n",
    "data['date'] = pd.to_datetime(data['date'], format='%d.%m.%Y %H:%M')\n",
    "\n"
   ]
  },
  {
   "cell_type": "code",
   "execution_count": 5,
   "id": "7605e6fd",
   "metadata": {},
   "outputs": [
    {
     "data": {
      "text/html": [
       "<div>\n",
       "<style scoped>\n",
       "    .dataframe tbody tr th:only-of-type {\n",
       "        vertical-align: middle;\n",
       "    }\n",
       "\n",
       "    .dataframe tbody tr th {\n",
       "        vertical-align: top;\n",
       "    }\n",
       "\n",
       "    .dataframe thead th {\n",
       "        text-align: right;\n",
       "    }\n",
       "</style>\n",
       "<table border=\"1\" class=\"dataframe\">\n",
       "  <thead>\n",
       "    <tr style=\"text-align: right;\">\n",
       "      <th></th>\n",
       "      <th>date</th>\n",
       "      <th>Pobs</th>\n",
       "      <th>Tobs</th>\n",
       "    </tr>\n",
       "  </thead>\n",
       "  <tbody>\n",
       "    <tr>\n",
       "      <th>0</th>\n",
       "      <td>1965-10-01</td>\n",
       "      <td>13.8810</td>\n",
       "      <td>5.375</td>\n",
       "    </tr>\n",
       "    <tr>\n",
       "      <th>1</th>\n",
       "      <td>1965-10-02</td>\n",
       "      <td>5.8030</td>\n",
       "      <td>3.155</td>\n",
       "    </tr>\n",
       "    <tr>\n",
       "      <th>2</th>\n",
       "      <td>1965-10-03</td>\n",
       "      <td>9.6057</td>\n",
       "      <td>0.565</td>\n",
       "    </tr>\n",
       "    <tr>\n",
       "      <th>3</th>\n",
       "      <td>1965-10-14</td>\n",
       "      <td>0.4103</td>\n",
       "      <td>1.115</td>\n",
       "    </tr>\n",
       "    <tr>\n",
       "      <th>4</th>\n",
       "      <td>1965-10-31</td>\n",
       "      <td>6.1845</td>\n",
       "      <td>-0.935</td>\n",
       "    </tr>\n",
       "    <tr>\n",
       "      <th>5</th>\n",
       "      <td>1965-11-01</td>\n",
       "      <td>0.3473</td>\n",
       "      <td>-5.235</td>\n",
       "    </tr>\n",
       "    <tr>\n",
       "      <th>6</th>\n",
       "      <td>1965-11-02</td>\n",
       "      <td>0.1583</td>\n",
       "      <td>-8.245</td>\n",
       "    </tr>\n",
       "    <tr>\n",
       "      <th>7</th>\n",
       "      <td>1965-11-03</td>\n",
       "      <td>1.6262</td>\n",
       "      <td>-3.980</td>\n",
       "    </tr>\n",
       "    <tr>\n",
       "      <th>8</th>\n",
       "      <td>1966-10-24</td>\n",
       "      <td>0.0000</td>\n",
       "      <td>3.885</td>\n",
       "    </tr>\n",
       "    <tr>\n",
       "      <th>9</th>\n",
       "      <td>1966-10-25</td>\n",
       "      <td>0.0551</td>\n",
       "      <td>1.280</td>\n",
       "    </tr>\n",
       "    <tr>\n",
       "      <th>10</th>\n",
       "      <td>1966-10-30</td>\n",
       "      <td>0.2594</td>\n",
       "      <td>-5.555</td>\n",
       "    </tr>\n",
       "  </tbody>\n",
       "</table>\n",
       "</div>"
      ],
      "text/plain": [
       "         date     Pobs   Tobs\n",
       "0  1965-10-01  13.8810  5.375\n",
       "1  1965-10-02   5.8030  3.155\n",
       "2  1965-10-03   9.6057  0.565\n",
       "3  1965-10-14   0.4103  1.115\n",
       "4  1965-10-31   6.1845 -0.935\n",
       "5  1965-11-01   0.3473 -5.235\n",
       "6  1965-11-02   0.1583 -8.245\n",
       "7  1965-11-03   1.6262 -3.980\n",
       "8  1966-10-24   0.0000  3.885\n",
       "9  1966-10-25   0.0551  1.280\n",
       "10 1966-10-30   0.2594 -5.555"
      ]
     },
     "execution_count": 5,
     "metadata": {},
     "output_type": "execute_result"
    }
   ],
   "source": [
    "data"
   ]
  },
  {
   "cell_type": "code",
   "execution_count": 4,
   "id": "acaa939d",
   "metadata": {},
   "outputs": [
    {
     "data": {
      "image/png": "[encoded data removed]",
      "text/plain": [
       "<Figure size 432x288 with 2 Axes>"
      ]
     },
     "metadata": {
      "needs_background": "light"
     },
     "output_type": "display_data"
    }
   ],
   "source": [
    "# Temperature:\n",
    "tempT = data.groupby([data['date'].dt.month_name()], sort=False).mean().eval('Tobs')\n",
    "\n",
    "# Precipitation:\n",
    "df_sum = data.groupby([data['date'].dt.month_name(), data['date'].dt.year], sort=False).sum()  # get sum for each individual month\n",
    "df_sum.index.rename(['month','year'], inplace=True)  # just renaming the index\n",
    "df_sum.reset_index(level=0, inplace=True)  # make the month-index to a column\n",
    "tempP = df_sum.groupby([df_sum['month']], sort=False).mean().eval('Pobs')  # get mean over all years\n",
    "\n",
    "fig = plt.figure();\n",
    "ax1 = fig.add_subplot(1,1,1);\n",
    "ax2 = ax1.twinx();\n",
    "\n",
    "xticks = pd.to_datetime(tempP.index.tolist(), format='%B').sort_values() # must work for both axes\n",
    "ax1.bar(xticks, tempP.values, color='blue')\n",
    "ax2.plot(xticks, tempT.values, color='red')\n",
    "plt.xticks(pd.to_datetime(tempP.index.tolist(), format='%B').sort_values()) # to show all ticks\n",
    "\n",
    "ax1.xaxis.set_major_formatter(mdates.DateFormatter(\"%b\")) # must be called after plotting both axes\n",
    "\n",
    "ax1.set_ylabel('Precipitation [mm]', fontsize=10)\n",
    "ax2.set_ylabel('Temperature [°C]', fontsize=10)\n",
    "\n",
    "plt.show()"
   ]
  },
  {
   "cell_type": "code",
   "execution_count": 8,
   "id": "bd2cc79c",
   "metadata": {},
   "outputs": [
    {
     "data": {
      "text/html": [
       "<div>\n",
       "<style scoped>\n",
       "    .dataframe tbody tr th:only-of-type {\n",
       "        vertical-align: middle;\n",
       "    }\n",
       "\n",
       "    .dataframe tbody tr th {\n",
       "        vertical-align: top;\n",
       "    }\n",
       "\n",
       "    .dataframe thead th {\n",
       "        text-align: right;\n",
       "    }\n",
       "</style>\n",
       "<table border=\"1\" class=\"dataframe\">\n",
       "  <thead>\n",
       "    <tr style=\"text-align: right;\">\n",
       "      <th></th>\n",
       "      <th></th>\n",
       "      <th>Pobs</th>\n",
       "      <th>Tobs</th>\n",
       "    </tr>\n",
       "    <tr>\n",
       "      <th>date</th>\n",
       "      <th>date</th>\n",
       "      <th></th>\n",
       "      <th></th>\n",
       "    </tr>\n",
       "  </thead>\n",
       "  <tbody>\n",
       "    <tr>\n",
       "      <th>October</th>\n",
       "      <th>1965</th>\n",
       "      <td>35.884499</td>\n",
       "      <td>9.275</td>\n",
       "    </tr>\n",
       "    <tr>\n",
       "      <th>November</th>\n",
       "      <th>1965</th>\n",
       "      <td>2.131800</td>\n",
       "      <td>-17.460</td>\n",
       "    </tr>\n",
       "    <tr>\n",
       "      <th>October</th>\n",
       "      <th>1966</th>\n",
       "      <td>0.314500</td>\n",
       "      <td>-0.390</td>\n",
       "    </tr>\n",
       "  </tbody>\n",
       "</table>\n",
       "</div>"
      ],
      "text/plain": [
       "                    Pobs    Tobs\n",
       "date     date                   \n",
       "October  1965  35.884499   9.275\n",
       "November 1965   2.131800 -17.460\n",
       "October  1966   0.314500  -0.390"
      ]
     },
     "execution_count": 8,
     "metadata": {},
     "output_type": "execute_result"
    }
   ],
   "source": [
    "df_sum = data.groupby([data['date'].dt.month_name(), data['date'].dt.year], sort=False).sum()  # get sum for each individual month\n",
    "df_sum"
   ]
  },
  {
   "cell_type": "code",
   "execution_count": 9,
   "id": "3670e29c",
   "metadata": {},
   "outputs": [
    {
     "data": {
      "text/html": [
       "<div>\n",
       "<style scoped>\n",
       "    .dataframe tbody tr th:only-of-type {\n",
       "        vertical-align: middle;\n",
       "    }\n",
       "\n",
       "    .dataframe tbody tr th {\n",
       "        vertical-align: top;\n",
       "    }\n",
       "\n",
       "    .dataframe thead th {\n",
       "        text-align: right;\n",
       "    }\n",
       "</style>\n",
       "<table border=\"1\" class=\"dataframe\">\n",
       "  <thead>\n",
       "    <tr style=\"text-align: right;\">\n",
       "      <th></th>\n",
       "      <th></th>\n",
       "      <th>Pobs</th>\n",
       "      <th>Tobs</th>\n",
       "    </tr>\n",
       "    <tr>\n",
       "      <th>month</th>\n",
       "      <th>year</th>\n",
       "      <th></th>\n",
       "      <th></th>\n",
       "    </tr>\n",
       "  </thead>\n",
       "  <tbody>\n",
       "    <tr>\n",
       "      <th>October</th>\n",
       "      <th>1965</th>\n",
       "      <td>35.884499</td>\n",
       "      <td>9.275</td>\n",
       "    </tr>\n",
       "    <tr>\n",
       "      <th>November</th>\n",
       "      <th>1965</th>\n",
       "      <td>2.131800</td>\n",
       "      <td>-17.460</td>\n",
       "    </tr>\n",
       "    <tr>\n",
       "      <th>October</th>\n",
       "      <th>1966</th>\n",
       "      <td>0.314500</td>\n",
       "      <td>-0.390</td>\n",
       "    </tr>\n",
       "  </tbody>\n",
       "</table>\n",
       "</div>"
      ],
      "text/plain": [
       "                    Pobs    Tobs\n",
       "month    year                   \n",
       "October  1965  35.884499   9.275\n",
       "November 1965   2.131800 -17.460\n",
       "October  1966   0.314500  -0.390"
      ]
     },
     "execution_count": 9,
     "metadata": {},
     "output_type": "execute_result"
    }
   ],
   "source": [
    "df_sum.index.rename(['month','year'], inplace=True)  # just renaming the index\n",
    "df_sum"
   ]
  },
  {
   "cell_type": "code",
   "execution_count": 10,
   "id": "be91ee2f",
   "metadata": {},
   "outputs": [
    {
     "data": {
      "text/html": [
       "<div>\n",
       "<style scoped>\n",
       "    .dataframe tbody tr th:only-of-type {\n",
       "        vertical-align: middle;\n",
       "    }\n",
       "\n",
       "    .dataframe tbody tr th {\n",
       "        vertical-align: top;\n",
       "    }\n",
       "\n",
       "    .dataframe thead th {\n",
       "        text-align: right;\n",
       "    }\n",
       "</style>\n",
       "<table border=\"1\" class=\"dataframe\">\n",
       "  <thead>\n",
       "    <tr style=\"text-align: right;\">\n",
       "      <th></th>\n",
       "      <th>month</th>\n",
       "      <th>Pobs</th>\n",
       "      <th>Tobs</th>\n",
       "    </tr>\n",
       "    <tr>\n",
       "      <th>year</th>\n",
       "      <th></th>\n",
       "      <th></th>\n",
       "      <th></th>\n",
       "    </tr>\n",
       "  </thead>\n",
       "  <tbody>\n",
       "    <tr>\n",
       "      <th>1965</th>\n",
       "      <td>October</td>\n",
       "      <td>35.884499</td>\n",
       "      <td>9.275</td>\n",
       "    </tr>\n",
       "    <tr>\n",
       "      <th>1965</th>\n",
       "      <td>November</td>\n",
       "      <td>2.131800</td>\n",
       "      <td>-17.460</td>\n",
       "    </tr>\n",
       "    <tr>\n",
       "      <th>1966</th>\n",
       "      <td>October</td>\n",
       "      <td>0.314500</td>\n",
       "      <td>-0.390</td>\n",
       "    </tr>\n",
       "  </tbody>\n",
       "</table>\n",
       "</div>"
      ],
      "text/plain": [
       "         month       Pobs    Tobs\n",
       "year                             \n",
       "1965   October  35.884499   9.275\n",
       "1965  November   2.131800 -17.460\n",
       "1966   October   0.314500  -0.390"
      ]
     },
     "execution_count": 10,
     "metadata": {},
     "output_type": "execute_result"
    }
   ],
   "source": [
    "df_sum.reset_index(level=0, inplace=True)  # make the month-index to a column\n",
    "df_sum"
   ]
  },
  {
   "cell_type": "code",
   "execution_count": 11,
   "id": "2f31a4f5",
   "metadata": {},
   "outputs": [
    {
     "data": {
      "text/plain": [
       "month\n",
       "October     18.0995\n",
       "November     2.1318\n",
       "Name: Pobs, dtype: float64"
      ]
     },
     "execution_count": 11,
     "metadata": {},
     "output_type": "execute_result"
    }
   ],
   "source": [
    "tempP = df_sum.groupby([df_sum['month']], sort=False).mean().eval('Pobs')\n",
    "tempP"
   ]
  },
  {
   "cell_type": "code",
   "execution_count": 24,
   "id": "320c2315",
   "metadata": {},
   "outputs": [
    {
     "data": {
      "image/png": "[encoded data removed]",
      "text/plain": [
       "<Figure size 432x288 with 2 Axes>"
      ]
     },
     "metadata": {
      "needs_background": "light"
     },
     "output_type": "display_data"
    }
   ],
   "source": [
    "fig = plt.figure();\n",
    "ax1 = fig.add_subplot(1,1,1);\n",
    "ax2 = ax1.twinx();\n",
    "\n",
    "xticks = pd.to_datetime(tempP.index.tolist(), format='%B').sort_values() # must work for both axes\n",
    "ax1.bar(xticks, tempP.values, color='blue')\n",
    "ax2.plot(xticks, tempT.values, color='red')\n",
    "plt.xticks(pd.to_datetime(tempP.index.tolist(), format='%B').sort_values()) # to show all ticks\n",
    "\n",
    "ax1.xaxis.set_major_formatter(mdates.DateFormatter(\"%b\")) # must be called after plotting both axes\n",
    "\n",
    "ax1.set_ylabel('Precipitation [mm]', fontsize=10)\n",
    "ax2.set_ylabel('Temperature [°C]', fontsize=10)\n",
    "\n",
    "plt.show()"
   ]
  },
  {
   "cell_type": "code",
   "execution_count": 25,
   "id": "aca7ff4f",
   "metadata": {},
   "outputs": [
    {
     "data": {
      "text/plain": [
       "DatetimeIndex(['1900-10-01', '1900-11-01'], dtype='datetime64[ns]', freq=None)"
      ]
     },
     "execution_count": 25,
     "metadata": {},
     "output_type": "execute_result"
    }
   ],
   "source": [
    "xticks"
   ]
  },
  {
   "cell_type": "code",
   "execution_count": null,
   "id": "0efadcd7",
   "metadata": {},
   "outputs": [],
   "source": []
  }
 ],
 "metadata": {
  "kernelspec": {
   "display_name": "Python 3 (ipykernel)",
   "language": "python",
   "name": "python3"
  },
  "language_info": {
   "codemirror_mode": {
    "name": "ipython",
    "version": 3
   },
   "file_extension": ".py",
   "mimetype": "text/x-python",
   "name": "python",
   "nbconvert_exporter": "python",
   "pygments_lexer": "ipython3",
   "version": "3.7.12"
  }
 },
 "nbformat": 4,
 "nbformat_minor": 5
}
