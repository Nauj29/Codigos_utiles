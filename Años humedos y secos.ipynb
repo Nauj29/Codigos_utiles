{
 "cells": [
  {
   "cell_type": "code",
   "execution_count": 52,
   "id": "72a646f4",
   "metadata": {},
   "outputs": [],
   "source": [
    "import pandas as pd\n",
    "import numpy as np\n",
    "from osgeo import gdal\n",
    "import glob\n",
    "import os\n",
    "from pathlib import Path\n",
    "import matplotlib.pyplot as plt\n",
    "import matplotlib.dates as mdates"
   ]
  },
  {
   "cell_type": "code",
   "execution_count": 53,
   "id": "f60709e4",
   "metadata": {},
   "outputs": [],
   "source": [
    "#definidimos la carpeta en que estan los datos\n",
    "os.chdir(r\"F:\\UNAM\\Doctorado\\SIG\\Clima\\Precipitacion\")"
   ]
  },
  {
   "cell_type": "code",
   "execution_count": 91,
   "id": "51c20853",
   "metadata": {},
   "outputs": [
    {
     "data": {
      "text/plain": [
       "728.6274647887325"
      ]
     },
     "execution_count": 91,
     "metadata": {},
     "output_type": "execute_result"
    }
   ],
   "source": [
    "#Estaciones 1\n",
    "df=pd.read_csv(\"9048P.txt\",sep = \",\", engine='python')\n",
    "df['Fecha'] = pd.to_datetime(df['Fecha'])\n",
    "df.index=df[\"Fecha\"]\n",
    "df.drop(\"Fecha\",axis=1, inplace=True)\n",
    "\n",
    "df_Y=df.resample(rule='Y').sum()\n",
    "df_Y\n",
    "df_Ym=df_Y['P(mm)'].mean()\n",
    "df_Ym"
   ]
  },
  {
   "cell_type": "code",
   "execution_count": 92,
   "id": "e5bf1689",
   "metadata": {},
   "outputs": [
    {
     "data": {
      "text/plain": [
       "546.5546875"
      ]
     },
     "execution_count": 92,
     "metadata": {},
     "output_type": "execute_result"
    }
   ],
   "source": [
    "#Estaciones 2\n",
    "df=pd.read_csv(\"13082P.txt\",sep = \",\", engine='python')\n",
    "df['Fecha'] = pd.to_datetime(df['Fecha'])\n",
    "df.index=df[\"Fecha\"]\n",
    "df.drop(\"Fecha\",axis=1, inplace=True)\n",
    "\n",
    "df_Y2=df.resample(rule='Y').sum()\n",
    "df_Y2\n",
    "df_Y2m=df_Y2['P(mm)'].mean()\n",
    "df_Y2m"
   ]
  },
  {
   "cell_type": "code",
   "execution_count": 56,
   "id": "fdf9ff9f",
   "metadata": {},
   "outputs": [
    {
     "data": {
      "text/plain": [
       "811.9533333333331"
      ]
     },
     "execution_count": 56,
     "metadata": {},
     "output_type": "execute_result"
    }
   ],
   "source": [
    "#Estaciones 3\n",
    "df=pd.read_csv(\"13098P.txt\",sep = \",\", engine='python')\n",
    "df['Fecha'] = pd.to_datetime(df['Fecha'])\n",
    "df.index=df[\"Fecha\"]\n",
    "df.drop(\"Fecha\",axis=1, inplace=True)\n",
    "\n",
    "df_Y3=df.resample(rule='Y').sum()\n",
    "df_Y3\n",
    "df_Y3m=df_Y3['P(mm)'].mean()\n",
    "df_Y3m"
   ]
  },
  {
   "cell_type": "code",
   "execution_count": 57,
   "id": "38c099c1",
   "metadata": {},
   "outputs": [
    {
     "data": {
      "text/plain": [
       "875.369387755102"
      ]
     },
     "execution_count": 57,
     "metadata": {},
     "output_type": "execute_result"
    }
   ],
   "source": [
    "#Estaciones 4\n",
    "df=pd.read_csv(\"15058P.txt\",sep = \",\", engine='python')\n",
    "df['Fecha'] = pd.to_datetime(df['Fecha'])\n",
    "df.index=df[\"Fecha\"]\n",
    "df.drop(\"Fecha\",axis=1, inplace=True)\n",
    "\n",
    "df_Y4=df.resample(rule='Y').sum()\n",
    "df_Y4\n",
    "df_Y4m=df_Y4['P(mm)'].mean()\n",
    "df_Y4m"
   ]
  },
  {
   "cell_type": "code",
   "execution_count": 58,
   "id": "a0904595",
   "metadata": {},
   "outputs": [
    {
     "data": {
      "text/plain": [
       "931.7538461538461"
      ]
     },
     "execution_count": 58,
     "metadata": {},
     "output_type": "execute_result"
    }
   ],
   "source": [
    "#Estaciones 5\n",
    "df=pd.read_csv(\"17001P.txt\",sep = \",\", engine='python')\n",
    "df['Fecha'] = pd.to_datetime(df['Fecha'])\n",
    "df.index=df[\"Fecha\"]\n",
    "df.drop(\"Fecha\",axis=1, inplace=True)\n",
    "\n",
    "df_Y5=df.resample(rule='Y').sum()\n",
    "df_Y5\n",
    "df_Y5m=df_Y5['P(mm)'].mean()\n",
    "df_Y5m"
   ]
  },
  {
   "cell_type": "code",
   "execution_count": 59,
   "id": "6337d76e",
   "metadata": {},
   "outputs": [
    {
     "data": {
      "text/plain": [
       "588.6121212121211"
      ]
     },
     "execution_count": 59,
     "metadata": {},
     "output_type": "execute_result"
    }
   ],
   "source": [
    "#Estaciones 6\n",
    "df=pd.read_csv(\"15170P.txt\",sep = \",\", engine='python')\n",
    "df['Fecha'] = pd.to_datetime(df['Fecha'])\n",
    "df.index=df[\"Fecha\"]\n",
    "df.drop(\"Fecha\",axis=1, inplace=True)\n",
    "\n",
    "df_Y6=df.resample(rule='Y').sum()\n",
    "df_Y6\n",
    "df_Y6m=df_Y6['P(mm)'].mean()\n",
    "df_Y6m"
   ]
  },
  {
   "cell_type": "code",
   "execution_count": 60,
   "id": "4b385171",
   "metadata": {},
   "outputs": [
    {
     "data": {
      "text/plain": [
       "521.0840579710145"
      ]
     },
     "execution_count": 60,
     "metadata": {},
     "output_type": "execute_result"
    }
   ],
   "source": [
    "#Estaciones 7\n",
    "df=pd.read_csv(\"13084P.txt\",sep = \",\", engine='python')\n",
    "df['Fecha'] = pd.to_datetime(df['Fecha'])\n",
    "df.index=df[\"Fecha\"]\n",
    "df.drop(\"Fecha\",axis=1, inplace=True)\n",
    "\n",
    "df_Y7=df.resample(rule='Y').sum()\n",
    "df_Y7\n",
    "df_Y7m=df_Y7['P(mm)'].mean()\n",
    "df_Y7m"
   ]
  },
  {
   "cell_type": "code",
   "execution_count": 61,
   "id": "83e821b7",
   "metadata": {},
   "outputs": [
    {
     "data": {
      "text/plain": [
       "752.2482758620689"
      ]
     },
     "execution_count": 61,
     "metadata": {},
     "output_type": "execute_result"
    }
   ],
   "source": [
    "#Estaciones 8\n",
    "df=pd.read_csv(\"29030P.txt\",sep = \",\", engine='python')\n",
    "df['Fecha'] = pd.to_datetime(df['Fecha'])\n",
    "df.index=df[\"Fecha\"]\n",
    "df.drop(\"Fecha\",axis=1, inplace=True)\n",
    "\n",
    "df_Y8=df.resample(rule='Y').sum()\n",
    "df_Y8\n",
    "df_Y8m=df_Y8['P(mm)'].mean()\n",
    "df_Y8m"
   ]
  },
  {
   "cell_type": "code",
   "execution_count": 62,
   "id": "113c9e3e",
   "metadata": {},
   "outputs": [
    {
     "data": {
      "text/plain": [
       "593.4200000000001"
      ]
     },
     "execution_count": 62,
     "metadata": {},
     "output_type": "execute_result"
    }
   ],
   "source": [
    "#Estaciones 9\n",
    "df=pd.read_csv(\"29040P.txt\",sep = \",\", engine='python')\n",
    "df['Fecha'] = pd.to_datetime(df['Fecha'])\n",
    "df.index=df[\"Fecha\"]\n",
    "df.drop(\"Fecha\",axis=1, inplace=True)\n",
    "\n",
    "df_Y9=df.resample(rule='Y').sum()\n",
    "df_Y9\n",
    "df_Y9m=df_Y9['P(mm)'].mean()\n",
    "df_Y9m"
   ]
  },
  {
   "cell_type": "code",
   "execution_count": 63,
   "id": "6bb6e261",
   "metadata": {},
   "outputs": [
    {
     "data": {
      "text/plain": [
       "397.94358974358977"
      ]
     },
     "execution_count": 63,
     "metadata": {},
     "output_type": "execute_result"
    }
   ],
   "source": [
    "#Estaciones 10\n",
    "df=pd.read_csv(\"13111P.txt\",sep = \",\", engine='python')\n",
    "df['Fecha'] = pd.to_datetime(df['Fecha'])\n",
    "df.index=df[\"Fecha\"]\n",
    "df.drop(\"Fecha\",axis=1, inplace=True)\n",
    "\n",
    "df_Y10=df.resample(rule='Y').sum()\n",
    "df_Y10\n",
    "df_Y10m=df_Y10['P(mm)'].mean()\n",
    "df_Y10m"
   ]
  },
  {
   "cell_type": "code",
   "execution_count": 94,
   "id": "4d22e3ee",
   "metadata": {},
   "outputs": [
    {
     "data": {
      "image/png": "[encoded data removed]",
      "text/plain": [
       "<Figure size 1080x576 with 1 Axes>"
      ]
     },
     "metadata": {
      "needs_background": "light"
     },
     "output_type": "display_data"
    }
   ],
   "source": [
    "fig=plt.figure(figsize=(15,8))\n",
    "\n",
    "#plt.plot(df_Y.index,df_Y[\"P(mm)\"],label=\"9048\")\n",
    "plt.plot(df_Y2.index,df_Y2[\"P(mm)\"],label=\"13082\")\n",
    "#plt.plot(df_Y3.index,df_Y3[\"P(mm)\"],label=\"13098\")\n",
    "#plt.plot(df_Y4.index,df_Y4[\"P(mm)\"],label=\"15058\")\n",
    "#plt.plot(df_Y5.index,df_Y5[\"P(mm)\"],label=\"17001\")\n",
    "plt.plot(df_Y6.index,df_Y6[\"P(mm)\"],label=\"15170\")\n",
    "#plt.plot(df_Y7.index,df_Y7[\"P(mm)\"],label=\"13084\")\n",
    "#plt.plot(df_Y8.index,df_Y8[\"P(mm)\"],label=\"29030\")\n",
    "#plt.plot(df_Y9.index,df_Y9[\"P(mm)\"],label=\"29040\")\n",
    "#plt.plot(df_Y10.index,df_Y10[\"P(mm)\"],label=\"13111\")\n",
    "\n",
    "#plt.axhline(y=df_Ym, color='r', linestyle='-', label='Precipitación media')\n",
    "\n",
    "plt.legend(loc='best', facecolor='w', fontsize=10)\n",
    "plt.ylabel('Precipitation [mm]', fontsize=10)\n",
    "plt.xlabel('Años', fontsize=10)\n",
    "plt.title('Comparación estaciones', fontsize=10)\n",
    "\n",
    "\n",
    "plt.savefig(\"15170vs13082.png\")\n",
    "\n",
    "\n",
    "plt.show()"
   ]
  },
  {
   "cell_type": "code",
   "execution_count": 67,
   "id": "fe1d1921",
   "metadata": {},
   "outputs": [
    {
     "data": {
      "text/html": [
       "<div>\n",
       "<style scoped>\n",
       "    .dataframe tbody tr th:only-of-type {\n",
       "        vertical-align: middle;\n",
       "    }\n",
       "\n",
       "    .dataframe tbody tr th {\n",
       "        vertical-align: top;\n",
       "    }\n",
       "\n",
       "    .dataframe thead th {\n",
       "        text-align: right;\n",
       "    }\n",
       "</style>\n",
       "<table border=\"1\" class=\"dataframe\">\n",
       "  <thead>\n",
       "    <tr style=\"text-align: right;\">\n",
       "      <th></th>\n",
       "      <th>P(mm)</th>\n",
       "    </tr>\n",
       "    <tr>\n",
       "      <th>Fecha</th>\n",
       "      <th></th>\n",
       "    </tr>\n",
       "  </thead>\n",
       "  <tbody>\n",
       "    <tr>\n",
       "      <th>1980-12-31</th>\n",
       "      <td>345.3</td>\n",
       "    </tr>\n",
       "    <tr>\n",
       "      <th>1981-12-31</th>\n",
       "      <td>656.2</td>\n",
       "    </tr>\n",
       "    <tr>\n",
       "      <th>1982-12-31</th>\n",
       "      <td>468.3</td>\n",
       "    </tr>\n",
       "    <tr>\n",
       "      <th>1983-12-31</th>\n",
       "      <td>589.7</td>\n",
       "    </tr>\n",
       "    <tr>\n",
       "      <th>1984-12-31</th>\n",
       "      <td>565.7</td>\n",
       "    </tr>\n",
       "    <tr>\n",
       "      <th>1985-12-31</th>\n",
       "      <td>605.2</td>\n",
       "    </tr>\n",
       "    <tr>\n",
       "      <th>1986-12-31</th>\n",
       "      <td>839.7</td>\n",
       "    </tr>\n",
       "    <tr>\n",
       "      <th>1987-12-31</th>\n",
       "      <td>439.4</td>\n",
       "    </tr>\n",
       "    <tr>\n",
       "      <th>1988-12-31</th>\n",
       "      <td>553.0</td>\n",
       "    </tr>\n",
       "    <tr>\n",
       "      <th>1989-12-31</th>\n",
       "      <td>744.5</td>\n",
       "    </tr>\n",
       "    <tr>\n",
       "      <th>1990-12-31</th>\n",
       "      <td>594.6</td>\n",
       "    </tr>\n",
       "    <tr>\n",
       "      <th>1991-12-31</th>\n",
       "      <td>685.5</td>\n",
       "    </tr>\n",
       "    <tr>\n",
       "      <th>1992-12-31</th>\n",
       "      <td>699.3</td>\n",
       "    </tr>\n",
       "    <tr>\n",
       "      <th>1993-12-31</th>\n",
       "      <td>270.6</td>\n",
       "    </tr>\n",
       "    <tr>\n",
       "      <th>1994-12-31</th>\n",
       "      <td>188.3</td>\n",
       "    </tr>\n",
       "    <tr>\n",
       "      <th>1995-12-31</th>\n",
       "      <td>164.7</td>\n",
       "    </tr>\n",
       "    <tr>\n",
       "      <th>1996-12-31</th>\n",
       "      <td>35.9</td>\n",
       "    </tr>\n",
       "    <tr>\n",
       "      <th>1997-12-31</th>\n",
       "      <td>182.1</td>\n",
       "    </tr>\n",
       "    <tr>\n",
       "      <th>1998-12-31</th>\n",
       "      <td>33.5</td>\n",
       "    </tr>\n",
       "    <tr>\n",
       "      <th>1999-12-31</th>\n",
       "      <td>106.6</td>\n",
       "    </tr>\n",
       "    <tr>\n",
       "      <th>2000-12-31</th>\n",
       "      <td>249.7</td>\n",
       "    </tr>\n",
       "    <tr>\n",
       "      <th>2001-12-31</th>\n",
       "      <td>256.5</td>\n",
       "    </tr>\n",
       "    <tr>\n",
       "      <th>2002-12-31</th>\n",
       "      <td>736.9</td>\n",
       "    </tr>\n",
       "    <tr>\n",
       "      <th>2003-12-31</th>\n",
       "      <td>271.0</td>\n",
       "    </tr>\n",
       "    <tr>\n",
       "      <th>2004-12-31</th>\n",
       "      <td>435.9</td>\n",
       "    </tr>\n",
       "    <tr>\n",
       "      <th>2005-12-31</th>\n",
       "      <td>101.4</td>\n",
       "    </tr>\n",
       "    <tr>\n",
       "      <th>2006-12-31</th>\n",
       "      <td>410.5</td>\n",
       "    </tr>\n",
       "    <tr>\n",
       "      <th>2007-12-31</th>\n",
       "      <td>771.0</td>\n",
       "    </tr>\n",
       "    <tr>\n",
       "      <th>2008-12-31</th>\n",
       "      <td>491.7</td>\n",
       "    </tr>\n",
       "    <tr>\n",
       "      <th>2009-12-31</th>\n",
       "      <td>524.0</td>\n",
       "    </tr>\n",
       "    <tr>\n",
       "      <th>2010-12-31</th>\n",
       "      <td>431.9</td>\n",
       "    </tr>\n",
       "    <tr>\n",
       "      <th>2011-12-31</th>\n",
       "      <td>590.1</td>\n",
       "    </tr>\n",
       "    <tr>\n",
       "      <th>2012-12-31</th>\n",
       "      <td>431.7</td>\n",
       "    </tr>\n",
       "    <tr>\n",
       "      <th>2013-12-31</th>\n",
       "      <td>365.3</td>\n",
       "    </tr>\n",
       "    <tr>\n",
       "      <th>2014-12-31</th>\n",
       "      <td>200.1</td>\n",
       "    </tr>\n",
       "    <tr>\n",
       "      <th>2015-12-31</th>\n",
       "      <td>186.0</td>\n",
       "    </tr>\n",
       "    <tr>\n",
       "      <th>2016-12-31</th>\n",
       "      <td>79.5</td>\n",
       "    </tr>\n",
       "    <tr>\n",
       "      <th>2017-12-31</th>\n",
       "      <td>192.7</td>\n",
       "    </tr>\n",
       "    <tr>\n",
       "      <th>2018-12-31</th>\n",
       "      <td>25.8</td>\n",
       "    </tr>\n",
       "  </tbody>\n",
       "</table>\n",
       "</div>"
      ],
      "text/plain": [
       "            P(mm)\n",
       "Fecha            \n",
       "1980-12-31  345.3\n",
       "1981-12-31  656.2\n",
       "1982-12-31  468.3\n",
       "1983-12-31  589.7\n",
       "1984-12-31  565.7\n",
       "1985-12-31  605.2\n",
       "1986-12-31  839.7\n",
       "1987-12-31  439.4\n",
       "1988-12-31  553.0\n",
       "1989-12-31  744.5\n",
       "1990-12-31  594.6\n",
       "1991-12-31  685.5\n",
       "1992-12-31  699.3\n",
       "1993-12-31  270.6\n",
       "1994-12-31  188.3\n",
       "1995-12-31  164.7\n",
       "1996-12-31   35.9\n",
       "1997-12-31  182.1\n",
       "1998-12-31   33.5\n",
       "1999-12-31  106.6\n",
       "2000-12-31  249.7\n",
       "2001-12-31  256.5\n",
       "2002-12-31  736.9\n",
       "2003-12-31  271.0\n",
       "2004-12-31  435.9\n",
       "2005-12-31  101.4\n",
       "2006-12-31  410.5\n",
       "2007-12-31  771.0\n",
       "2008-12-31  491.7\n",
       "2009-12-31  524.0\n",
       "2010-12-31  431.9\n",
       "2011-12-31  590.1\n",
       "2012-12-31  431.7\n",
       "2013-12-31  365.3\n",
       "2014-12-31  200.1\n",
       "2015-12-31  186.0\n",
       "2016-12-31   79.5\n",
       "2017-12-31  192.7\n",
       "2018-12-31   25.8"
      ]
     },
     "execution_count": 67,
     "metadata": {},
     "output_type": "execute_result"
    }
   ],
   "source": [
    "df_Y10"
   ]
  },
  {
   "cell_type": "code",
   "execution_count": null,
   "id": "69c1ae6d",
   "metadata": {},
   "outputs": [],
   "source": []
  }
 ],
 "metadata": {
  "kernelspec": {
   "display_name": "Python 3 (ipykernel)",
   "language": "python",
   "name": "python3"
  },
  "language_info": {
   "codemirror_mode": {
    "name": "ipython",
    "version": 3
   },
   "file_extension": ".py",
   "mimetype": "text/x-python",
   "name": "python",
   "nbconvert_exporter": "python",
   "pygments_lexer": "ipython3",
   "version": "3.7.12"
  }
 },
 "nbformat": 4,
 "nbformat_minor": 5
}
